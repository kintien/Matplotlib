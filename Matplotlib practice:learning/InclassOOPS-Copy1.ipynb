{
 "cells": [
  {
   "cell_type": "code",
   "execution_count": 15,
   "metadata": {},
   "outputs": [],
   "source": [
    "class Tiger:\n",
    "    def __init__(self,name,age,weight,stripes):\n",
    "        self.name = name\n",
    "        self.age = age\n",
    "        self.weight = weight\n",
    "        self.stripes = stripes\n",
    "        print('Just created a tiger called {}'.format(self.name))\n",
    "        print('{} weighs {}lbs and has {} stripes'.format(self.name, self.weight, self.stripes))\n",
    "    def grow_stronger(self, new_weight):\n",
    "        self.weight = new_weight\n",
    "        print('{} now weight {}'.format(self.name, self.weight))\n",
    "        \n",
    "    def grow_stripes(self, add_Stripes):\n",
    "        self.stripes = self.stripes + add_Stripes\n",
    "        print('{} has {} stripes'.format(self.name, self.stripes))\n"
   ]
  },
  {
   "cell_type": "code",
   "execution_count": 8,
   "metadata": {},
   "outputs": [
    {
     "name": "stdout",
     "output_type": "stream",
     "text": [
      "Just created a tiger called \n",
      " weighs 300lbs and has 50 stripes\n",
      " now weight 500\n",
      " has 52 stripes\n"
     ]
    }
   ],
   "source": [
    "sher_khan = Tiger('Sher khan', 20, 300, 50)\n",
    "sher_khan.grow_stronger(500)\n",
    "sher_khan.grow_stripes(2)"
   ]
  },
  {
   "cell_type": "code",
   "execution_count": 11,
   "metadata": {},
   "outputs": [
    {
     "name": "stdout",
     "output_type": "stream",
     "text": [
      "Just created a tiger called sher khan\n",
      "sher khan weighs 300lbs and has 50 stripes\n",
      "Just created a tiger called Simba\n",
      "Simba weighs 31lbs and has 90 stripes\n",
      "Just created a tiger called Scar\n",
      "Scar weighs 23lbs and has 100 stripes\n"
     ]
    }
   ],
   "source": [
    "name=[Tiger('sher khan', 20, 300, 50), Tiger('Simba', 20, 31, 90), Tiger('Scar', 300, 23, 100)]"
   ]
  },
  {
   "cell_type": "code",
   "execution_count": 14,
   "metadata": {},
   "outputs": [],
   "source": [
    "class Tiger:\n",
    "    def __init__(self, name, age, weight, stripes):\n",
    "        self.name =name\n",
    "        self.age = age\n",
    "        self.weight = weight\n",
    "        self.stripes = stripes\n",
    "    def get_name(self):\n",
    "        return self.name\n",
    "    def set_name(self, new_name):\n",
    "        self.name = new_name\n",
    "    def get_age(self):\n",
    "        return self.age\n",
    "    def set_age(self, new_age):\n",
    "        self.age = new_age\n",
    "    def get_weight(self):\n",
    "        return self.weight\n",
    "    def set_weight(self, new_stripes):\n",
    "        self.weight = new_stripes\n",
    "    def get_stripes(self):\n",
    "        return self.stripes "
   ]
  },
  {
   "cell_type": "code",
   "execution_count": 27,
   "metadata": {},
   "outputs": [
    {
     "name": "stdout",
     "output_type": "stream",
     "text": [
      "This is a fake plants\n",
      "        The color of this plant is greenish yellow\n",
      "        Is this plant Real: False \n",
      "        The weight of this plant is 5 lbs \n",
      "        The height of this plant is 12 inches \n",
      "        The number of leaves on this plant is 300\n",
      "        The relative size of this plant compared to other large is fake plants\n",
      "        This plant belongs in a indoor habitat\n",
      "        \n"
     ]
    }
   ],
   "source": [
    "class plant:\n",
    "    def __init__(self,plant_species,color,isreal,weight,height,leafcount,relativesize,habitat,height_unit,weight_unit):\n",
    "        self.type = plant_species\n",
    "        self.color = color\n",
    "        self.isreal = isreal\n",
    "        self.weight= weight\n",
    "        self.height = height\n",
    "        self.leafcount = leafcount\n",
    "        self.relativesize = relativesize\n",
    "        self.habitat = habitat\n",
    "        self.height_unit = height_unit\n",
    "        self.weight_unit = weight_unit\n",
    "        print('''This is a {}\n",
    "        The color of this plant is {}\n",
    "        Is this plant Real: {} \n",
    "        The weight of this plant is {} {} \n",
    "        The height of this plant is {} {} \n",
    "        The number of leaves on this plant is {}\n",
    "        The relative size of this plant compared to other {} is {}\n",
    "        This plant belongs in a {} habitat\n",
    "        '''.format(self.type, self.color, self.isreal, self.weight, self.weight_unit, self.height, self.height_unit, self.leafcount, self.relativesize, self.type, self.habitat))\n",
    "planty = plant('fake plants', 'greenish yellow', False, 5, 12, 300, 'large', 'indoor', 'inches', 'lbs' )\n",
    "        \n",
    "    \n",
    "        \n",
    "        "
   ]
  },
  {
   "cell_type": "code",
   "execution_count": null,
   "metadata": {},
   "outputs": [],
   "source": []
  }
 ],
 "metadata": {
  "kernelspec": {
   "display_name": "Python 3",
   "language": "python",
   "name": "python3"
  },
  "language_info": {
   "codemirror_mode": {
    "name": "ipython",
    "version": 3
   },
   "file_extension": ".py",
   "mimetype": "text/x-python",
   "name": "python",
   "nbconvert_exporter": "python",
   "pygments_lexer": "ipython3",
   "version": "3.7.1"
  }
 },
 "nbformat": 4,
 "nbformat_minor": 2
}
