{
 "cells": [
  {
   "cell_type": "code",
   "execution_count": 7,
   "metadata": {},
   "outputs": [
    {
     "ename": "IndentationError",
     "evalue": "expected an indented block (<ipython-input-7-31025d80d311>, line 39)",
     "output_type": "error",
     "traceback": [
      "\u001b[0;36m  File \u001b[0;32m\"<ipython-input-7-31025d80d311>\"\u001b[0;36m, line \u001b[0;32m39\u001b[0m\n\u001b[0;31m    print(CHStudent('Kintien Wong', 'Male', '12-12-01', '1-15-1998', 1, 5106748188, 11 ))\u001b[0m\n\u001b[0m        ^\u001b[0m\n\u001b[0;31mIndentationError\u001b[0m\u001b[0;31m:\u001b[0m expected an indented block\n"
     ]
    }
   ],
   "source": [
    "class CHStudent:\n",
    "    #birthdate\n",
    "    #take lists into the CHStudent\n",
    "    def __init__(self, name, gender, birthdate, student_since, idnumber, contact_info, grade):\n",
    "        \n",
    "        self.name = name \n",
    "        self.gender = gender\n",
    "        self.birthdate = birthdate    \n",
    "        self.courses_taken = []\n",
    "        self.student_id = idnumber\n",
    "        self.student_since = student_since\n",
    "        self.eligibility = True\n",
    "        self.grade = grade\n",
    "        self.TeacherCommennts = ''     \n",
    "        print('''\n",
    "        student_id: {}\n",
    "        student name: {} \n",
    "        stedent gender: {}\n",
    "        student birthdate: {}\n",
    "        self.student_since: {}\n",
    "        courses taken: {}\n",
    "        grade: {}\n",
    "        '''.format(self.student_id, self.name, self.gender, self.birthdate, self.student_since, self.courses_taken, self.grade))\n",
    "        \n",
    "    \n",
    "class Math101:\n",
    "    def __init__(self, startdate, enddate, course_name, price, \n",
    "                 location, taught_by,capacity, student_num,\n",
    "                 enrollment_period, times):\n",
    "        self.startdate= startdate\n",
    "        self.enddate= enddate\n",
    "        self.classdays= \n",
    "        self.course_name = 'Math101'\n",
    "        self.price = price\n",
    "        self.location = object(location)\n",
    "        self.teacher = object(teacher)\n",
    "        self.courseschedule = (startdate, enddate)\n",
    "        self.classSchedule = {}\n",
    "        \n",
    "        \n",
    "class location:\n",
    "    def __init__(self, address, state, country)\n",
    "\n",
    "\n",
    "class teacher:\n",
    "    def __init__(self, name, age, degree)\n",
    "        \n",
    "\n",
    "print(CHStudent('Kintien Wong', 'Male', '12-12-01', '1-15-1998', 1, 5106748188, 11 ))\n",
    "    "
   ]
  },
  {
   "cell_type": "code",
   "execution_count": null,
   "metadata": {},
   "outputs": [],
   "source": []
  }
 ],
 "metadata": {
  "kernelspec": {
   "display_name": "Python 3",
   "language": "python",
   "name": "python3"
  },
  "language_info": {
   "codemirror_mode": {
    "name": "ipython",
    "version": 3
   },
   "file_extension": ".py",
   "mimetype": "text/x-python",
   "name": "python",
   "nbconvert_exporter": "python",
   "pygments_lexer": "ipython3",
   "version": "3.7.1"
  }
 },
 "nbformat": 4,
 "nbformat_minor": 2
}
