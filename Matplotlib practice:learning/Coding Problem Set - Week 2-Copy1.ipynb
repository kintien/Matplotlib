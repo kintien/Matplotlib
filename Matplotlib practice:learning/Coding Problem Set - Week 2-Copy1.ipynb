{
 "cells": [
  {
   "cell_type": "markdown",
   "metadata": {},
   "source": [
    "# Welcome to Data Structures in Python\n",
    "\n",
    "Before we proceed, please make sure you have a thorough understanding of data types and how values can be converted from one data type to another. \n",
    "\n",
    "What are Data Structures? \n",
    "Data Structures are simply a collection of other data types and even other such collections. Many developers prefer to think of data structures as containers of other data types and containers. \n",
    "\n",
    "\n",
    "In this notebook, we will cover the following data structures: \n",
    "* Lists - Mutable, Ordered sequence of elements/items\n",
    "* Tuples - Immutable, Ordered sequence of elements/items\n",
    "* Sets - Mutable, Unordered collection of unique elements/items \n",
    "* Dictionaries\n",
    "* and other complex, compound data structures\n",
    "For each of the data structures, we will cover related methods and built-in functions. \n",
    "\n",
    "We will also cover the following operators: \n",
    "* Membership (in)\n",
    "* Identity (is, is not)\n",
    "* Comparison (!= , ==)\n"
   ]
  },
  {
   "cell_type": "code",
   "execution_count": 2,
   "metadata": {},
   "outputs": [
    {
     "name": "stdout",
     "output_type": "stream",
     "text": [
      "['July', 'August', 'Spetember', 'October', 'November', 'December']\n"
     ]
    }
   ],
   "source": [
    "# Write code to slice and print second half of the year from months[] list \n",
    "\n",
    "months=['January', 'February', 'March', 'April', 'May','June', 'July', 'August', 'Spetember', 'October', 'November', 'December']\n",
    "print(months[6:])"
   ]
  },
  {
   "cell_type": "code",
   "execution_count": 1,
   "metadata": {},
   "outputs": [
    {
     "name": "stdout",
     "output_type": "stream",
     "text": [
      "input numbers123,123,21,\n",
      "['123', '123', '21', '']\n"
     ]
    }
   ],
   "source": [
    "# Write a program that accepts an input of comma-separated numbers from console and generates \n",
    "#  a list that contains each number. Assume that the input is valid numeric values separated by commas. \n",
    "input_user = input('input numbers')\n",
    "x= input_user.split(',')\n",
    "print(x)"
   ]
  },
  {
   "cell_type": "code",
   "execution_count": 2,
   "metadata": {},
   "outputs": [
    {
     "name": "stdout",
     "output_type": "stream",
     "text": [
      "[9, 16, 25, 4096, 9, 15129]\n",
      "[9, 16, 25, 4096, 9, 15129]\n"
     ]
    }
   ],
   "source": [
    "def generateSqauares(x):\n",
    "    sqlist=[]\n",
    "    for i in range (0,len(x)):\n",
    "        sqlist.append((x[i]**2))\n",
    "    return sqlist\n",
    "\n",
    "\n",
    "\n",
    "list_of_num=[-3,4,5,64,3,123]\n",
    "print(generateSqauares(list_of_num))"
   ]
  },
  {
   "cell_type": "code",
   "execution_count": null,
   "metadata": {},
   "outputs": [],
   "source": [
    "# Write a program to get the largest number from a list \n",
    "random_numbers=[-3,4,5,64,4888,3,123]\n",
    "random_numbers.sort()\n",
    "print(random_numbers[-1])"
   ]
  },
  {
   "cell_type": "code",
   "execution_count": null,
   "metadata": {},
   "outputs": [],
   "source": [
    "# Write a program to add all values in a list. Assume that input list is a valid list of integers. \n",
    "\n",
    "x = [2, 4, 7, 12, 3]\n",
    "sum_of_all_numbers= sum(x)\n",
    "print(sum_of_all_numbers)\n",
    "\n",
    "    "
   ]
  },
  {
   "cell_type": "code",
   "execution_count": null,
   "metadata": {},
   "outputs": [],
   "source": [
    "# Write a program to retrieve and print all even numbers from the list below. \n",
    "numbers = [2,5,6,23,4365,576,0,8567,92587,9182378] \n",
    "x = []\n",
    "for i in numbers:\n",
    "    if i% 2 == 0:\n",
    "        x.append(i)\n",
    "print(x)\n"
   ]
  },
  {
   "cell_type": "code",
   "execution_count": null,
   "metadata": {},
   "outputs": [],
   "source": [
    "# For the given list of strings, write a python function to return the number of \n",
    "#strings that are greater than\n",
    "#  length 3 and begin and end with the same letter. \n",
    "\n",
    "\n",
    "def count_eligible_items(lst):\n",
    "    eligible_item_count = 0\n",
    "    for item in lst:\n",
    "        if len(item) >= 3:\n",
    "            if item[0] == item[-1]:\n",
    "                eligible_item_count += 1\n",
    "    return eligible_item_count\n",
    "\n",
    "list_of_string = ['hellh', 'hollo', 'halloween', 'hi', 'hit']\n",
    "print (count_eligible_items(list_of_string))"
   ]
  },
  {
   "cell_type": "code",
   "execution_count": 3,
   "metadata": {},
   "outputs": [
    {
     "name": "stdout",
     "output_type": "stream",
     "text": [
      "[3, 11, 43, 23, 12312, 123]\n",
      "[3, 11, 43, 23, 12312, 123]\n"
     ]
    }
   ],
   "source": [
    "# Write a program to remove duplicates from a list \n",
    "\n",
    "list_of_numbers1=[123,12312,3,11,11,23,43]\n",
    "set_of_names = set(list_of_numbers1)\n",
    "newlist= []\n",
    "for x in set_of_names:\n",
    "    newlist.append(x)\n",
    "print(newlist)"
   ]
  },
  {
   "cell_type": "code",
   "execution_count": 57,
   "metadata": {},
   "outputs": [
    {
     "name": "stdout",
     "output_type": "stream",
     "text": [
      "None\n"
     ]
    }
   ],
   "source": [
    "# Write a function that accepts two lists and returns True if they have at least one common item. \n",
    "\n",
    "def common_item_check(list1, list2):\n",
    "    checker = None\n",
    "    for x in list1:\n",
    "        for y in list2:\n",
    "            if x ==y :\n",
    "                checker= True\n",
    "            \n",
    "        \n",
    "    return checker\n",
    "lst1 = ['hello', 'afc','a','fsc']\n",
    "lst2 = ['hello','dfs','dsf','d']\n",
    "print(common_item_check(lst1, lst2))\n"
   ]
  },
  {
   "cell_type": "code",
   "execution_count": 4,
   "metadata": {},
   "outputs": [
    {
     "name": "stdout",
     "output_type": "stream",
     "text": [
      "[1, 2, 4]\n",
      "[1, 2, 4]\n"
     ]
    }
   ],
   "source": [
    "# Write a function to remove items at every odd index of a list \n",
    "list0 = [1,1,2,3,4,532]\n",
    "del list0[1::2]\n",
    "print(list0)\n",
    "    "
   ]
  },
  {
   "cell_type": "code",
   "execution_count": 1,
   "metadata": {},
   "outputs": [
    {
     "name": "stdout",
     "output_type": "stream",
     "text": [
      "{1, 2, 3, 4, 532, 234132, 23134}\n"
     ]
    }
   ],
   "source": [
    "# Write a function that accepts two lists and returns another list with all the elements \n",
    "#  that appear only once across the two input lists\n",
    "def newlist(x,y):\n",
    "    for i in x:\n",
    "        y.append(i)\n",
    "    return set(y)\n",
    "\n",
    "list3 = [1,1,2,3,4,532]\n",
    "list2 = [1,1,2,3,4,23134,234132]\n",
    "print(newlist(list2, list3))"
   ]
  },
  {
   "cell_type": "code",
   "execution_count": 5,
   "metadata": {},
   "outputs": [
    {
     "name": "stdout",
     "output_type": "stream",
     "text": [
      "hi-hi-hi\n",
      "hi-hi-hi\n"
     ]
    }
   ],
   "source": [
    "# Write a function that converts a list of strings and returns a strings of all items in the list with each item\n",
    "#  separated by a hyphen. HINT: use the join() method \n",
    "list1 = ['hi', 'hi','hi']\n",
    "x = '-'.join(list1)\n",
    "print(x)\n"
   ]
  },
  {
   "cell_type": "code",
   "execution_count": null,
   "metadata": {},
   "outputs": [],
   "source": [
    "# Write a program to reverse the order of elements of a tuple\n",
    "tup = (1,2,3)\n",
    "z=list(tup)\n",
    "z.reverse()\n",
    "tuple(z)\n",
    "print(z)\n",
    "\n"
   ]
  },
  {
   "cell_type": "code",
   "execution_count": null,
   "metadata": {},
   "outputs": [],
   "source": [
    "# Write a program to print the first half of the elements of the following tuple\n",
    "\n",
    "tp = 1,2,3,4,5,6,7,8,9,10\n",
    "print(tp[:5])"
   ]
  },
  {
   "cell_type": "code",
   "execution_count": 6,
   "metadata": {},
   "outputs": [
    {
     "name": "stdout",
     "output_type": "stream",
     "text": [
      "input numbers12, 12, 18\n",
      "('12', ' 12', ' 18')\n",
      "('12', ' 12', ' 18')\n"
     ]
    }
   ],
   "source": [
    "# Write a program to accept a comma-separated sequence of values and create a tuple from it\n",
    "input_user = input('input numbers')\n",
    "x= input_user.split(',')\n",
    "\n",
    "z=tuple(x)\n",
    "print(z)"
   ]
  },
  {
   "cell_type": "code",
   "execution_count": null,
   "metadata": {},
   "outputs": [],
   "source": [
    "# Write a program to make a list whose elements are the intersection of the two given lists. Use set() and list(). \n",
    "\n",
    "def intersection(lst1, lst2): \n",
    "    return list(set(lst1) & set(lst2)) \n",
    "  \n",
    "# Driver Code \n",
    "lst13 = [15, 9, 10, 56, 23, 78, 5, 4, 9] \n",
    "lst22 = [9, 4, 5, 36, 47, 26, 10, 45, 87] \n",
    "print(intersection(lst13, lst22)) \n"
   ]
  },
  {
   "cell_type": "code",
   "execution_count": null,
   "metadata": {},
   "outputs": [],
   "source": [
    "# Write a program that accepts a sequence of whitespace separated words as input and prints the alpphabetically sorted words \n",
    "#  after removing all duplicate words\n",
    "input_user = input('input words')\n",
    "x= input_user.split(' ')\n",
    "x.sort()\n",
    "print(set(x))\n"
   ]
  },
  {
   "cell_type": "code",
   "execution_count": null,
   "metadata": {},
   "outputs": [],
   "source": [
    "# Write a program to accept a list of numbers and store the values in a list without any duplicates\n",
    "\n",
    "input_user = input('input numbers')\n",
    "x= input_user.split(',')\n",
    "y= set(x)\n",
    "z= list(y)\n",
    "print(z)\n",
    "\n"
   ]
  },
  {
   "cell_type": "code",
   "execution_count": null,
   "metadata": {},
   "outputs": [],
   "source": [
    "# Can you predict the output of the program below without running it first? \n",
    "# the last bc pop removes the last when not given a command\n",
    "grocery_bag = {'eggs', 'tomato', 'cereal', 'bread'}\n",
    "print (grocery_bag.pop())"
   ]
  },
  {
   "cell_type": "code",
   "execution_count": 13,
   "metadata": {},
   "outputs": [
    {
     "name": "stdout",
     "output_type": "stream",
     "text": [
      "6\n",
      "{0: 0, 1: 1, 2: 4, 3: 9, 4: 16, 5: 25}\n",
      "{0: 0, 1: 1, 2: 4, 3: 9, 4: 16, 5: 25}\n"
     ]
    }
   ],
   "source": [
    "# With a given integral number n, write a program to generate a dictionary that contains (i, i*i) \n",
    "#  such that is an integral number between 1 and n (both included). and then the program should print the dictionary.\n",
    "#  Suppose the following input is supplied to the program: 6\n",
    "# Then, the output should be: {1: 1, 2: 4, 3: 9, 4: 16, 5: 25, 6: 36}\n",
    "n= input()\n",
    "\n",
    "x = int(n)**2\n",
    "diction = {}\n",
    "z= int(n)\n",
    "for i in range(0,z+1):\n",
    "    diction[i]= i**2\n",
    "print(diction)"
   ]
  },
  {
   "cell_type": "code",
   "execution_count": 43,
   "metadata": {},
   "outputs": [
    {
     "name": "stdout",
     "output_type": "stream",
     "text": [
      "1 8\n",
      "2 3\n"
     ]
    }
   ],
   "source": [
    "# Write a program to iterate over dictionaries using loops\n",
    "dict1 = {1: 8, 2:3}\n",
    "for x, y in dict1.items():\n",
    "    print(x, y)"
   ]
  },
  {
   "cell_type": "code",
   "execution_count": 42,
   "metadata": {},
   "outputs": [
    {
     "name": "stdout",
     "output_type": "stream",
     "text": [
      "{'Hydrogen': 1, 'Helium': 2, 'Lithium': 3, 'Berylium': 4, 'Boron': 5, 'Carbon': 6, 'Nitrogen': 7, 'Oxygen': 8}\n"
     ]
    }
   ],
   "source": [
    "# Write a function to map the following two lists into a dictionary\n",
    "#zip function takes 2 values both from seperate data structures and puts it into one\n",
    "def create_dict(k,v):\n",
    "    # Write your code below\n",
    "    d= {}\n",
    "\n",
    "    d = dict(zip(k,v))\n",
    "    return d\n",
    "list_of_keys = ['Hydrogen', 'Helium', 'Lithium', 'Berylium', 'Boron', 'Carbon', 'Nitrogen', 'Oxygen']\n",
    "list_of_values = [1,2,3,4,5,6,7,8]\n",
    "\n",
    "periodic_table = create_dict(list_of_keys, list_of_values)\n",
    "print (periodic_table)\n",
    "\n",
    "\n"
   ]
  },
  {
   "cell_type": "code",
   "execution_count": 13,
   "metadata": {},
   "outputs": [
    {
     "name": "stdout",
     "output_type": "stream",
     "text": [
      "{'a': 1, 'd': 2, 'c': 3, 'b': 4}\n"
     ]
    }
   ],
   "source": [
    "# Write a program to remove duplicates from a dictionary\n",
    "dictionary = {'a': 3,'a': 3, 'b': 4, 'c': 2, 'd': 1}\n",
    "list1 = []\n",
    "list2 = []\n",
    "for x, y in dictionary.items():\n",
    "    list1.append(x)\n",
    "    list2.append(y)    \n",
    "z =set(list1)\n",
    "n =set(list2)\n",
    "d = dict(zip(z,n))\n",
    "print(d)\n"
   ]
  },
  {
   "cell_type": "code",
   "execution_count": 49,
   "metadata": {},
   "outputs": [
    {
     "name": "stdout",
     "output_type": "stream",
     "text": [
      "the 3 highest values are:  [2, 3, 12]\n"
     ]
    }
   ],
   "source": [
    "# Write a program to print the 3 highest values in a dictionary. Assume all values are integers. \n",
    "dictionary = {'a': 3, 'b': 12, 'c': 2, 'd': -1}\n",
    "list1 = []\n",
    "list2 = []\n",
    "x=[]\n",
    "for x, y in dictionary.items():\n",
    "    list1.append(x)\n",
    "    list2.append(y)\n",
    "list2.sort()\n",
    "x= list2\n",
    "print('the 3 highest values are: ',x[-3:])"
   ]
  },
  {
   "cell_type": "code",
   "execution_count": 48,
   "metadata": {},
   "outputs": [
    {
     "name": "stdout",
     "output_type": "stream",
     "text": [
      "the maximum value is:  12  the minimum value is:  -1 \n"
     ]
    }
   ],
   "source": [
    "# Write a program to find the minimum and maximum value in a dictionary. Assume all values are integers. \n",
    "dictionary = {'a': 3, 'b': 12, 'c': 2, 'd': -1}\n",
    "list1 = []\n",
    "list2 = []\n",
    "x=[]\n",
    "for x, y in dictionary.items():\n",
    "    list1.append(x)\n",
    "    list2.append(y)\n",
    "list2.sort()\n",
    "x= list2\n",
    "print('the maximum value is: ',x[-1], \" the minimum value is: \",x[0],'')\n",
    "\n"
   ]
  },
  {
   "cell_type": "code",
   "execution_count": 50,
   "metadata": {},
   "outputs": [
    {
     "name": "stdout",
     "output_type": "stream",
     "text": [
      "False\n"
     ]
    }
   ],
   "source": [
    "# Write a function to check if duplicate keys exist in a dictionary\n",
    "print('false')"
   ]
  },
  {
   "cell_type": "code",
   "execution_count": 15,
   "metadata": {},
   "outputs": [
    {
     "name": "stdout",
     "output_type": "stream",
     "text": [
      "1)which room would you like to see\n",
      "2)would you like to see all\n",
      "1\n",
      "which room would you like to seeroom 3\n",
      "('Katy', 'Jacky')\n"
     ]
    }
   ],
   "source": [
    "# Design a data structure to represent dorm room allocation. Take into account the following constraints: \n",
    "#    * Each room support occupancy for 2 students\n",
    "#    * All student names are strings in the english characterset \n",
    "#    * All rooms numbers are integers\n",
    "\n",
    "\n",
    "#create tuple that stores 2 names\n",
    "rm1 = 'Ariv', 'Anish'\n",
    "rm2= 'Kintien', 'Nishant'\n",
    "rm3= 'Katy', 'Jacky'\n",
    "rm4= 'Mr.blue','Mr.Chim'\n",
    "rm5= 'jack', 'Mr.Ryan'\n",
    "\n",
    "list1 = [rm1, rm2, rm3, rm4, rm5]\n",
    "#create a dictionary that contains room numbers\n",
    "room_number_ppl= {'room 1': rm1,'room 2': rm2,'room 3': rm3,'room 4': rm4, }\n",
    "x =input(\n",
    "'''1)which room would you like to see\n",
    "2)would you like to see all\n",
    "''')\n",
    "\n",
    "if x =='1':\n",
    "    y= input('which room would you like to see ')\n",
    "    print(room_number_ppl[y])\n",
    "\n",
    "if x =='2':\n",
    "    print(room_number_ppl)\n",
    "     \n",
    "    \n",
    "\n"
   ]
  },
  {
   "cell_type": "code",
   "execution_count": 39,
   "metadata": {},
   "outputs": [
    {
     "name": "stdout",
     "output_type": "stream",
     "text": [
      "None\n"
     ]
    }
   ],
   "source": [
    "# Create a dictionary with integer values and write a program to sort the dictionary by value\n",
    "\n",
    "\n",
    "#Dictionaries cannot are not sorted"
   ]
  },
  {
   "cell_type": "code",
   "execution_count": 29,
   "metadata": {},
   "outputs": [
    {
     "name": "stdout",
     "output_type": "stream",
     "text": [
      "What element do you want to know about Hydrogen\n"
     ]
    },
    {
     "ename": "AttributeError",
     "evalue": "'str' object has no attribute 'items'",
     "output_type": "error",
     "traceback": [
      "\u001b[0;31m---------------------------------------------------------------------------\u001b[0m",
      "\u001b[0;31mAttributeError\u001b[0m                            Traceback (most recent call last)",
      "\u001b[0;32m<ipython-input-29-7ebfe14e24c1>\u001b[0m in \u001b[0;36m<module>\u001b[0;34m\u001b[0m\n\u001b[1;32m     42\u001b[0m \u001b[0;34m\u001b[0m\u001b[0m\n\u001b[1;32m     43\u001b[0m \u001b[0mx\u001b[0m \u001b[0;34m=\u001b[0m \u001b[0minput\u001b[0m\u001b[0;34m(\u001b[0m\u001b[0;34m'What element do you want to know about '\u001b[0m\u001b[0;34m)\u001b[0m\u001b[0;34m\u001b[0m\u001b[0;34m\u001b[0m\u001b[0m\n\u001b[0;32m---> 44\u001b[0;31m \u001b[0mprint\u001b[0m\u001b[0;34m(\u001b[0m\u001b[0mx\u001b[0m\u001b[0;34m.\u001b[0m\u001b[0mitems\u001b[0m\u001b[0;34m(\u001b[0m\u001b[0;34m)\u001b[0m\u001b[0;34m)\u001b[0m\u001b[0;34m\u001b[0m\u001b[0;34m\u001b[0m\u001b[0m\n\u001b[0m",
      "\u001b[0;31mAttributeError\u001b[0m: 'str' object has no attribute 'items'"
     ]
    }
   ],
   "source": [
    "# Design a data structure to represent all pertinent information about all known elements. \n",
    "#  Use https://www.ptable.com/ for reference.\n",
    "periodicTable= [Hydrogen= {\"name\": \"Hydrogen\", \n",
    "           \"symbol\": \"H\",\n",
    "            \"atomic_mass\": '1.008', \n",
    "            \"boiling_point\": '20.271', \n",
    "            \"category\": \"diatomic nonmetal\", \n",
    "            \"color\": 'None', \n",
    "            \"density\": '0.08988', \n",
    "            \"discovered_by\": \"Henry Cavendish\", \n",
    "            \"melting temp\": '13.99', \n",
    "            \"molar_heat\":'28.836', \n",
    "            \"named_by\": \"Antoine Lavoisier\", \n",
    "            \"number\": '1', \n",
    "            \"period\": '1', \n",
    "            \"phase\": \"Gas\", \n",
    "                          },\n",
    "        {\"name\": \"Helium\", \n",
    "         \"symbol\":\"He\"\n",
    "        \"atomic_mass\": 4.0026022, \n",
    "        \"boiling_point\": 4.222, \n",
    "        \"category\": \"noble gas\", \n",
    "        \"color\": None, \n",
    "        \"density\": 0.1786, \n",
    "        \"discovered_by\": \"Pierre Janssen\", \n",
    "        \"melt temp\": 0.95, \n",
    "        \"number\": 2, \n",
    "        \"period\": 1, \n",
    "        \"phase\": \"Gas\", \n",
    "        },\n",
    "        {\n",
    "        \"name\": \"Lithium\", \n",
    "        \"symbol\": 'Li'\n",
    "        \"appearance\": \"silvery-white\", \n",
    "        \"atomic_mass\": 6.94, \n",
    "        \"boiling_point\": 1603, \n",
    "        \"category\": \"alkali metal\", \n",
    "        \"color\": None, \n",
    "        \"density\": 0.534, \n",
    "        \"discovered_by\": \"Johan August Arfwedson\", \n",
    "        \"melt temp\": 453.65, \n",
    "        \"molar_heat\": 24.86, \n",
    "        \"named_by\": None, \n",
    "        \"number\": 3, \n",
    "        \"period\": 2,  \n",
    "        }\n",
    "\n",
    "\n",
    "'''\n",
    "Beryllium={}\n",
    "Boron={}\n",
    "Carbon ={}\n",
    "Nitrogen={}\n",
    "Oxygen={}\n",
    "Fluorine={}\n",
    "Neon={}\n",
    "Sodium={}\n",
    "Magnesium={}\n",
    "Aluminum={}\n",
    "Silicon={}\n",
    "Phosphorus={}\n",
    "Sulfur={}\n",
    "Chlorine={}\n",
    "Argon={}\n",
    "Potassium={}\n",
    "Calcium={}\n",
    "'''"
   ]
  },
  {
   "cell_type": "markdown",
   "metadata": {},
   "source": [
    "## Membership vs. Identity vs. Comparison Operators"
   ]
  },
  {
   "cell_type": "code",
   "execution_count": null,
   "metadata": {},
   "outputs": [],
   "source": [
    "# What will be the output of the following code? \n",
    "\n",
    "a = [1, 2, 3]\n",
    "b = a\n",
    "c = [1, 2, 3]\n",
    "\n",
    "print(a == b)\n",
    "print(a is b)\n",
    "print(a == c)\n",
    "print(a is c)"
   ]
  },
  {
   "cell_type": "code",
   "execution_count": null,
   "metadata": {},
   "outputs": [],
   "source": []
  },
  {
   "cell_type": "code",
   "execution_count": null,
   "metadata": {},
   "outputs": [],
   "source": []
  }
 ],
 "metadata": {
  "kernelspec": {
   "display_name": "Python 3",
   "language": "python",
   "name": "python3"
  },
  "language_info": {
   "codemirror_mode": {
    "name": "ipython",
    "version": 3
   },
   "file_extension": ".py",
   "mimetype": "text/x-python",
   "name": "python",
   "nbconvert_exporter": "python",
   "pygments_lexer": "ipython3",
   "version": "3.7.1"
  }
 },
 "nbformat": 4,
 "nbformat_minor": 2
}
