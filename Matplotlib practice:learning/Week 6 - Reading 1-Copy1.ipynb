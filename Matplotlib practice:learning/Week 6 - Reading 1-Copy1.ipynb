{
 "cells": [
  {
   "cell_type": "markdown",
   "metadata": {},
   "source": [
    "# Week 6 Reading Material (notebook 1 of 2)\n",
    "\n",
    "In this notebook, we'll look at a class called Gaussian. If you have never heard of/worked with Gaussian Distributions (aka normal distribution), I recommend reading/watching these links first:\n",
    "\n",
    "* https://www.youtube.com/watch?v=xgQhefFOXrM\n",
    "* https://www.youtube.com/watch?v=jKwiiSK68lE\n",
    "* https://www.alanzucconi.com/2015/09/09/understanding-the-gaussian-distribution/\n",
    "\n",
    "NOTE: WITHOUT THE MATH, THE EXAMPLE BELOW WILL NOT MAKE ANY SENSE. PROCEED ONLY AFTER REVIEWING THE CONTENT ABOVE\n",
    "\n",
    "The Gaussian class below will serve as an example on how you can create classes to represent mathematical concepts as objects. This example will allow you to think of python objects as abstract concepts with little to no ties to any real world object. Don't worry if this is difficult to understand at first. With due time, it will become clearer. It was hard for all of us when we first learned it, except for maybe Bjarne Stroustrup. \n",
    "\n",
    "Make sure you read each line of code carefully and try to make sense of it. Let's jump right in..."
   ]
  },
  {
   "cell_type": "code",
   "execution_count": 14,
   "metadata": {},
   "outputs": [],
   "source": [
    "import math\n",
    "import matplotlib.pyplot as plt\n",
    "\n",
    "\n",
    "class Gaussian():\n",
    "    \"\"\"\n",
    "    Gaussian Distribution class for calculating and visualizing a Gaussian distribution\n",
    "    \n",
    "    Attributes:\n",
    "        mean (float) - represents the mean value of the distribution\n",
    "        stdev (float) - represents the standard deviation of the distribution\n",
    "        data_list (list of floats) - list of floats extracted from a data file\n",
    "    \"\"\"\n",
    "    \n",
    "    def __init__(self, mu = 0, sigma = 1):\n",
    "        self.mean = mu\n",
    "        self.stdev = sigma\n",
    "        self.data = [] \n",
    "        \n",
    "    def calculate_mean(self):\n",
    "        \"\"\"\n",
    "        Method to calculate the mean of the data set\n",
    "        \n",
    "        Args:\n",
    "            None\n",
    "        Returns:\n",
    "            float - mean of the dataset\n",
    "        \"\"\"\n",
    "        avg = 1.0 * sum(self.data) / len(self.data)\n",
    "        self.mean = avg\n",
    "        return self.mean\n",
    "    \n",
    "    def calculate_stdev(self, sample=True):\n",
    "        \"\"\"\n",
    "        Method to calculate standard deviation of a dataset\n",
    "        \n",
    "        Args:\n",
    "            sample (bool) - does the dataset represent sample or the population\n",
    "        Returns:\n",
    "            float - standard deviation of the dataset\n",
    "        \"\"\"\n",
    "        if sample:\n",
    "            n = len(self.data) - 1\n",
    "        else:\n",
    "            n = len(self.data)\n",
    "            \n",
    "        mean = self.mean\n",
    "        sigma = 0\n",
    "        \n",
    "        for d in self.data:\n",
    "            sigma += (d-mean)**2\n",
    "        sigma = math.sqrt(sigma/n)\n",
    "        self.stdev = sigma\n",
    "        \n",
    "        return self.stdev\n",
    "    \n",
    "    def read_data_file(self, file_name, sample=True):\n",
    "        \"\"\"\n",
    "        Method to read data from a file. The file should have one number (float) per line.\n",
    "        The numbers are stored in the data attribute. The mean and standard deviation are\n",
    "        calculated after reading data from the file. \n",
    "        \n",
    "        Args:\n",
    "            file_name (string) - name of the file to read data from. \n",
    "        \n",
    "        Returns:\n",
    "            Nothing\n",
    "        \"\"\"\n",
    "        \n",
    "        with open(file_name) as f: \n",
    "            data_list = []\n",
    "            line = f.readline()\n",
    "            while line:\n",
    "                data_list.append(float(line))\n",
    "                line = f.readline()\n",
    "            f.close()\n",
    "            \n",
    "            self.data = data_list\n",
    "            self.mean = self.calculate_mean()\n",
    "            self.stdev = self.calculate_stdev(sample)\n",
    "            \n",
    "    def plot_histogram(self):\n",
    "        \"\"\"\n",
    "        Method to plot a histogram of data using matplotlib pyplot library. \n",
    "        \n",
    "        Args:\n",
    "            None\n",
    "            \n",
    "        Returns:\n",
    "            Nothing\n",
    "        \"\"\"\n",
    "        \n",
    "        plt.hist(self.data)\n",
    "        plt.title('Histogram')\n",
    "        plt.xlabel('Data')\n",
    "        plt.ylabel('Count')\n",
    "        \n",
    "    \n",
    "    def probability_density_function(self, x):\n",
    "        \"\"\"\n",
    "        Method to calculate probability density function (pdf) for gaussian distribution.\n",
    "        \n",
    "        Args: \n",
    "            x (float) - point for calculating pdf\n",
    "            \n",
    "        Returns:\n",
    "            float - pdf output\n",
    "        \"\"\"\n",
    "        \n",
    "        return (1.0 / (self.stdev * math.sqrt(2*math.pi))) * math.exp(-0.5*((x - self.mean) / self.stdev) ** 2)\n",
    "    \n",
    "    def plot_histogram_pdf(self, n_spaces=50):\n",
    "        \"\"\"\n",
    "        Method to plot the normalized histogram of the data and plot \n",
    "        pdf along the same range\n",
    "        \n",
    "        Args:\n",
    "            n_spaces (int) - number of data points\n",
    "            \n",
    "        Returns:\n",
    "            list: x-values for the pdf plot\n",
    "            list: y-values for the pdf plot\n",
    "        \"\"\"\n",
    "        \n",
    "        mu = self.mean\n",
    "        sigma = self.stdev\n",
    "        \n",
    "        min_range = min(self.data)\n",
    "        max_range = max(self.data)\n",
    "        \n",
    "        # calculate the interval between x values\n",
    "        interval = 1.0 * (max_range - min_range) / n_spaces\n",
    "        \n",
    "        x = []\n",
    "        y = []\n",
    "        \n",
    "        # calculate x values to visualize\n",
    "        for i in range(n_spaces):\n",
    "            tmp = min_range + interval * i\n",
    "            x.append(tmp)\n",
    "            y.append(self.probability_density_function(tmp))\n",
    "            \n",
    "        # render the plots\n",
    "        figure, axes = plt.subplots(2, sharex=True)\n",
    "        figure.subplots_adjust(hspace=.5)\n",
    "        axes[0].hist(self.data, density=True)\n",
    "        axes[0].set_title('Normed histogram of data')\n",
    "        axes[0].set_ylabel('Density')\n",
    "        \n",
    "        axes[1].plot(x, y)\n",
    "        axes[1].set_title('Normal Distribution for \\n sample mean and sample standard deviation')\n",
    "        axes[1].set_ylabel('Density')\n",
    "        plt.show()\n",
    "        \n",
    "        return x, y\n"
   ]
  },
  {
   "cell_type": "markdown",
   "metadata": {},
   "source": [
    "Let's take a closer look at the code above. \n",
    "\n",
    "* The code above uses doctrings to clearly document what the class represents, it's attributes, and methods. Individual methods also use docstrings to state what the method does. \n",
    "* The __init__ function, aka constructor, sets the mean to 0 and standard deviation to 1, when it doesn't explicitely receive these values. \n",
    "* read_data_file method calls the calculate_mean() and calculate_stdev() methods on object self. The self object not only gives you access to the class attributes but also to the class methods. \n",
    "* We imported matplotlib.pyplot library. This is commonly used library for visualizing data as graphs/plots.\n",
    "\n",
    "Did you also make these observations as you were reading through the code? \n",
    "\n",
    "I now have a task for you to complete. "
   ]
  },
  {
   "cell_type": "code",
   "execution_count": 15,
   "metadata": {},
   "outputs": [
    {
     "data": {
      "image/png": "[encoded data removed]",
      "text/plain": [
       "<Figure size 432x288 with 1 Axes>"
      ]
     },
     "metadata": {
      "needs_background": "light"
     },
     "output_type": "display_data"
    },
    {
     "data": {
      "image/png": "[encoded data removed]",
      "text/plain": [
       "<Figure size 432x288 with 2 Axes>"
      ]
     },
     "metadata": {
      "needs_background": "light"
     },
     "output_type": "display_data"
    },
    {
     "data": {
      "text/plain": [
       "2.4615384615384617"
      ]
     },
     "execution_count": 15,
     "metadata": {},
     "output_type": "execute_result"
    }
   ],
   "source": [
    "# Create an object of type Gaussian, feed it a text file of numbers and have the \n",
    "#  object calculate mean, standard deviation. Also, plot a histogram of the distribution.\n",
    "file = \"/Users/kintienmalik/Documents/AML300/Student Directory/Kintien/numbers.txt\"\n",
    "g = Gaussian()\n",
    "g.read_data_file(file)\n",
    "g.plot_histogram()\n",
    "g.plot_histogram_pdf()\n",
    "plt.show()\n",
    "g.calculate_mean()"
   ]
  },
  {
   "cell_type": "code",
   "execution_count": null,
   "metadata": {},
   "outputs": [],
   "source": []
  },
  {
   "cell_type": "code",
   "execution_count": null,
   "metadata": {},
   "outputs": [],
   "source": []
  }
 ],
 "metadata": {
  "kernelspec": {
   "display_name": "Python 3",
   "language": "python",
   "name": "python3"
  },
  "language_info": {
   "codemirror_mode": {
    "name": "ipython",
    "version": 3
   },
   "file_extension": ".py",
   "mimetype": "text/x-python",
   "name": "python",
   "nbconvert_exporter": "python",
   "pygments_lexer": "ipython3",
   "version": "3.7.1"
  }
 },
 "nbformat": 4,
 "nbformat_minor": 2
}
