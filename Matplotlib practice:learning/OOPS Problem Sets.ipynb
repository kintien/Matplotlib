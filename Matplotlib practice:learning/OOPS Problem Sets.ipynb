{
 "cells": [
  {
   "cell_type": "markdown",
   "metadata": {},
   "source": [
    "Try the following problem set to deepen your understanding of Object Oriented Programming. "
   ]
  },
  {
   "cell_type": "code",
   "execution_count": 10,
   "metadata": {},
   "outputs": [
    {
     "name": "stdout",
     "output_type": "stream",
     "text": [
      "Just created a brown somethingcircle\n",
      "circle is 12 long and 8 wide\n",
      "circle morphed into a lion\n",
      "The new size is 976\n"
     ]
    }
   ],
   "source": [
    "# Define a class with a constructor and at least two methods\n",
    "class something:\n",
    "    def __init__ (self, name, length, width, color):\n",
    "        self.name =name\n",
    "        self.length = length\n",
    "        self.width = width\n",
    "        self.color = color\n",
    "        print('Just created a {} something{}'.format(self.color, self.name))\n",
    "        print('{} is {} long and {} wide'.format(self.name, self.length, self.width))\n",
    "    def size(self):\n",
    "        self.size = self.width * self.height\n",
    "    def morph(self, name1):\n",
    "        self.name1 = name1\n",
    "        print('{} morphed into a {}'.format(self.name, self.name1))\n",
    "    def grow(self, length1, width1):\n",
    "        self.size = length1 * width1\n",
    "        print('The new size is {}'.format(self.size))\n",
    "        \n",
    "something = something('circle', 12, 8, 'brown')\n",
    "something.morph('lion')\n",
    "something.grow(122, 8)"
   ]
  },
  {
   "cell_type": "code",
   "execution_count": 39,
   "metadata": {},
   "outputs": [
    {
     "name": "stdout",
     "output_type": "stream",
     "text": [
      "kintien\n",
      "kintien\n",
      "j\n",
      "j\n",
      "None\n",
      "J\n",
      "None\n"
     ]
    }
   ],
   "source": [
    "# Define a class which has at least two methods:\n",
    "#   getString: to get a string from console input\n",
    "#   printString: to print the string in upper case.\n",
    "# Also  include simple test function to test class methods.\n",
    "\n",
    "\n",
    "class something:\n",
    "    def __init__(self, name):\n",
    "        self.name = name\n",
    "        self.something = ''\n",
    "        print('{}'.format(self.name))\n",
    "        \n",
    "    def getString(self):\n",
    "        self.something=input()\n",
    "        print(self.something)\n",
    "    def printString(self):\n",
    "        print(self.something.capitalize())\n",
    "\n",
    "   \n",
    "i=something('kintien')\n",
    "print(i.name)\n",
    "print(i.getString())\n",
    "print(i.printString())"
   ]
  },
  {
   "cell_type": "code",
   "execution_count": 82,
   "metadata": {},
   "outputs": [
    {
     "name": "stdout",
     "output_type": "stream",
     "text": [
      "16.0\n",
      "None\n",
      "12\n",
      "None\n"
     ]
    }
   ],
   "source": [
    "\"\"\"\n",
    "Shirt class\n",
    "Write a Shirt class with the following characteristics:\n",
    "\n",
    "the class name should be Shirt\n",
    "the class attributes should include\n",
    "    color\n",
    "    size\n",
    "    style \n",
    "    price\n",
    "    the class should have an init function that initializes all of the attributes\n",
    "    the class should have two methods\n",
    "    change_price() a method to change the price attribute\n",
    "    discount() to calculate a discount\n",
    "\n",
    "\"\"\"\n",
    "\n",
    "\n",
    "class shirt():\n",
    "    def __init__(self, color, size, style, price):\n",
    "        self.color = color\n",
    "        self.size = size\n",
    "        self.style = style\n",
    "        self.price= price\n",
    "    def changeprice(self,change):\n",
    "        self.change = change\n",
    "        self.price = self.change\n",
    "        print(self.price)\n",
    "    def discount(self,discount):\n",
    "        self.discount = discount\n",
    "        self.price = self.price-(self.price * self.discount)\n",
    "        print(self.price)\n",
    "i = shirt('blue', 'medium', 'cool',20)\n",
    "\n",
    "print(i.discount(.2))\n",
    "print(i.changeprice(12))\n",
    "        \n"
   ]
  },
  {
   "cell_type": "code",
   "execution_count": 85,
   "metadata": {},
   "outputs": [
    {
     "name": "stdout",
     "output_type": "stream",
     "text": [
      "The length and width of this rectangle is 9 by 8\n",
      "72\n"
     ]
    }
   ],
   "source": [
    "# Define a class named Rectangle which can be constructed by a length and width. \n",
    "# The Rectangle class has a method which can compute the area. \n",
    "class rectangle():\n",
    "    def __init__(self, width,length):\n",
    "        self.width = width\n",
    "        self.length = length\n",
    "        print('The length and width of this rectangle is {} by {}'.format(self.width, self.length))\n",
    "    def area(self):\n",
    "        print(self.length * self.width)\n",
    "\n",
    "rectangle(9,8).area()"
   ]
  },
  {
   "cell_type": "code",
   "execution_count": 102,
   "metadata": {},
   "outputs": [
    {
     "name": "stdout",
     "output_type": "stream",
     "text": [
      "81\n",
      "<bound method shape.area of <__main__.square object at 0x10d3f0ac8>>\n"
     ]
    }
   ],
   "source": [
    "# Define a class named Shape and its subclass Square. The Square class has an init function which takes a \n",
    "#  length as argument. Both classes have a area function which can print the area of the shape where Shape's area \n",
    "#  is 0 by default.\n",
    "class shape():\n",
    "    def __init__(self, width, length):\n",
    "        self.width = width\n",
    "        self.length = length\n",
    "    def area(self):\n",
    "        print(self.length * self.length)\n",
    "        print(self.area)\n",
    "\n",
    "\n",
    "class square(shape):\n",
    "    def __init__(self,length):\n",
    "        self.length = length\n",
    "        super().__init__(length, length)\n",
    "\n",
    "        \n",
    "square(9).area()"
   ]
  },
  {
   "cell_type": "code",
   "execution_count": 2,
   "metadata": {},
   "outputs": [
    {
     "name": "stdout",
     "output_type": "stream",
     "text": [
      "male\n",
      "None\n",
      "Female\n",
      "None\n"
     ]
    }
   ],
   "source": [
    "# Define a class Person and its two child classes: Male and Female. All classes have a method \"getGender\" \n",
    "#   which can print \"Male\" for Male class and \"Female\" for Female class.\n",
    "class Person:\n",
    "    def __init__(self, gender):\n",
    "        self.gender = gender\n",
    "    def getGender(self):\n",
    "        print(self.gender)\n",
    "\n",
    "        \n",
    "        \n",
    "class Male(Person):\n",
    "    def __init__(self,gender):\n",
    "\n",
    "        self.gender= gender\n",
    "        super().__init__(gender)\n",
    "    \n",
    "\n",
    "\n",
    "        \n",
    "class Female(Person):\n",
    "    def __init__(self, gender):\n",
    "        self.gender= gender\n",
    "        super().__init__(gender)\n",
    "\n",
    "x= Male('male')\n",
    "i = Female('Female')\n",
    "print(x.getGender())\n",
    "print(i.getGender())\n",
    "        \n",
    "\n"
   ]
  },
  {
   "cell_type": "code",
   "execution_count": null,
   "metadata": {},
   "outputs": [],
   "source": []
  }
 ],
 "metadata": {
  "kernelspec": {
   "display_name": "Python 3",
   "language": "python",
   "name": "python3"
  },
  "language_info": {
   "codemirror_mode": {
    "name": "ipython",
    "version": 3
   },
   "file_extension": ".py",
   "mimetype": "text/x-python",
   "name": "python",
   "nbconvert_exporter": "python",
   "pygments_lexer": "ipython3",
   "version": "3.7.1"
  }
 },
 "nbformat": 4,
 "nbformat_minor": 2
}
